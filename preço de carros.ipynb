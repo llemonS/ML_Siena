{
 "cells": [
  {
   "cell_type": "code",
   "execution_count": 7,
   "metadata": {},
   "outputs": [
    {
     "name": "stderr",
     "output_type": "stream",
     "text": [
      "/usr/lib/python3.7/site-packages/sklearn/ensemble/forest.py:246: FutureWarning: The default value of n_estimators will change from 10 in version 0.20 to 100 in 0.22.\n",
      "  \"10 in version 0.20 to 100 in 0.22.\", FutureWarning)\n"
     ]
    },
    {
     "name": "stdout",
     "output_type": "stream",
     "text": [
      "[0.15909357 0.53342836 0.30747807]\n",
      "<class 'pandas.core.frame.DataFrame'>\n",
      "RangeIndex: 11 entries, 0 to 10\n",
      "Data columns (total 5 columns):\n",
      "ano           11 non-null int64\n",
      "km            11 non-null int64\n",
      "cilindrada    11 non-null int64\n",
      "preço         11 non-null int64\n",
      "Unnamed: 4    11 non-null int64\n",
      "dtypes: int64(5)\n",
      "memory usage: 520.0 bytes\n"
     ]
    },
    {
     "data": {
      "text/html": [
       "<div>\n",
       "<style scoped>\n",
       "    .dataframe tbody tr th:only-of-type {\n",
       "        vertical-align: middle;\n",
       "    }\n",
       "\n",
       "    .dataframe tbody tr th {\n",
       "        vertical-align: top;\n",
       "    }\n",
       "\n",
       "    .dataframe thead th {\n",
       "        text-align: right;\n",
       "    }\n",
       "</style>\n",
       "<table border=\"1\" class=\"dataframe\">\n",
       "  <thead>\n",
       "    <tr style=\"text-align: right;\">\n",
       "      <th></th>\n",
       "      <th>ano</th>\n",
       "      <th>km</th>\n",
       "      <th>cilindrada</th>\n",
       "      <th>preço</th>\n",
       "      <th>Unnamed: 4</th>\n",
       "    </tr>\n",
       "  </thead>\n",
       "  <tbody>\n",
       "    <tr>\n",
       "      <th>count</th>\n",
       "      <td>11.000000</td>\n",
       "      <td>11.000000</td>\n",
       "      <td>11.000000</td>\n",
       "      <td>11.000000</td>\n",
       "      <td>11.000000</td>\n",
       "    </tr>\n",
       "    <tr>\n",
       "      <th>mean</th>\n",
       "      <td>2012.545455</td>\n",
       "      <td>65027.363636</td>\n",
       "      <td>13.454545</td>\n",
       "      <td>30252.727273</td>\n",
       "      <td>2.181818</td>\n",
       "    </tr>\n",
       "    <tr>\n",
       "      <th>std</th>\n",
       "      <td>1.213560</td>\n",
       "      <td>19493.478778</td>\n",
       "      <td>1.809068</td>\n",
       "      <td>3444.961802</td>\n",
       "      <td>0.750757</td>\n",
       "    </tr>\n",
       "    <tr>\n",
       "      <th>min</th>\n",
       "      <td>2011.000000</td>\n",
       "      <td>38789.000000</td>\n",
       "      <td>10.000000</td>\n",
       "      <td>27000.000000</td>\n",
       "      <td>1.000000</td>\n",
       "    </tr>\n",
       "    <tr>\n",
       "      <th>25%</th>\n",
       "      <td>2012.000000</td>\n",
       "      <td>49500.000000</td>\n",
       "      <td>14.000000</td>\n",
       "      <td>27995.000000</td>\n",
       "      <td>2.000000</td>\n",
       "    </tr>\n",
       "    <tr>\n",
       "      <th>50%</th>\n",
       "      <td>2012.000000</td>\n",
       "      <td>59592.000000</td>\n",
       "      <td>14.000000</td>\n",
       "      <td>28800.000000</td>\n",
       "      <td>2.000000</td>\n",
       "    </tr>\n",
       "    <tr>\n",
       "      <th>75%</th>\n",
       "      <td>2013.000000</td>\n",
       "      <td>79500.000000</td>\n",
       "      <td>14.000000</td>\n",
       "      <td>31445.000000</td>\n",
       "      <td>3.000000</td>\n",
       "    </tr>\n",
       "    <tr>\n",
       "      <th>max</th>\n",
       "      <td>2015.000000</td>\n",
       "      <td>92000.000000</td>\n",
       "      <td>16.000000</td>\n",
       "      <td>38500.000000</td>\n",
       "      <td>3.000000</td>\n",
       "    </tr>\n",
       "  </tbody>\n",
       "</table>\n",
       "</div>"
      ],
      "text/plain": [
       "               ano            km  cilindrada         preço  Unnamed: 4\n",
       "count    11.000000     11.000000   11.000000     11.000000   11.000000\n",
       "mean   2012.545455  65027.363636   13.454545  30252.727273    2.181818\n",
       "std       1.213560  19493.478778    1.809068   3444.961802    0.750757\n",
       "min    2011.000000  38789.000000   10.000000  27000.000000    1.000000\n",
       "25%    2012.000000  49500.000000   14.000000  27995.000000    2.000000\n",
       "50%    2012.000000  59592.000000   14.000000  28800.000000    2.000000\n",
       "75%    2013.000000  79500.000000   14.000000  31445.000000    3.000000\n",
       "max    2015.000000  92000.000000   16.000000  38500.000000    3.000000"
      ]
     },
     "execution_count": 7,
     "metadata": {},
     "output_type": "execute_result"
    },
    {
     "data": {
      "image/png": "[encoded data removed]",
      "text/plain": [
       "<Figure size 432x288 with 1 Axes>"
      ]
     },
     "metadata": {
      "needs_background": "light"
     },
     "output_type": "display_data"
    }
   ],
   "source": [
    "import pandas as pd\n",
    "import numpy as np\n",
    "#importando os dados dos modelos de siena\n",
    "data = pd.read_csv(\"dataset.csv\")\n",
    "#eixo x contendo ano,km rodado, cilindradas, preço, peso (do preço)\n",
    "X = data.iloc[:,0:3]  #até o preço\n",
    "y = data.iloc[:,-1] # peso\n",
    "#utilizando o classificador para obter a resposta dos dados\n",
    "from sklearn.ensemble import ExtraTreesClassifier\n",
    "import matplotlib.pyplot as plt\n",
    "model = ExtraTreesClassifier()\n",
    "model.fit(X,y)\n",
    "print(model.feature_importances_) #\n",
    "#\n",
    "feat_importances = pd.Series(model.feature_importances_, index=X.columns)\n",
    "feat_importances.nlargest(3).plot(kind='barh')\n",
    "\n",
    "#estatística e médias, distribuição e dispersão\n",
    "data.info()\n",
    "data.describe()"
   ]
  },
  {
   "cell_type": "code",
   "execution_count": null,
   "metadata": {},
   "outputs": [],
   "source": []
  }
 ],
 "metadata": {
  "kernelspec": {
   "display_name": "Python 3",
   "language": "python",
   "name": "python3"
  },
  "language_info": {
   "codemirror_mode": {
    "name": "ipython",
    "version": 3
   },
   "file_extension": ".py",
   "mimetype": "text/x-python",
   "name": "python",
   "nbconvert_exporter": "python",
   "pygments_lexer": "ipython3",
   "version": "3.7.3"
  }
 },
 "nbformat": 4,
 "nbformat_minor": 2
}
